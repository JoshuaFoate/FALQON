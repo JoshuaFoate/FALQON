{
 "cells": [
  {
   "cell_type": "code",
   "execution_count": 21,
   "metadata": {},
   "outputs": [
    {
     "data": {
      "text/html": [
       "<style>.container { width:90% !important; }</style>"
      ],
      "text/plain": [
       "<IPython.core.display.HTML object>"
      ]
     },
     "metadata": {},
     "output_type": "display_data"
    }
   ],
   "source": [
    "import numpy as np\n",
    "import scipy\n",
    "from scipy import linalg\n",
    "from scipy.optimize import minimize\n",
    "from matplotlib import pyplot as plt\n",
    "import functools as ftls\n",
    "import networkx as nx\n",
    "import copy\n",
    "from itertools import combinations\n",
    "%matplotlib inline\n",
    "import sys\n",
    "from IPython.display import display, HTML\n",
    "display(HTML('<style>.container { width:90% !important; }</style>'))\n",
    "np.set_printoptions(threshold=sys.maxsize)\n",
    "\n",
    "X = np.array([[0.0, 1.0], [1.0, 0.0]])\n",
    "Y = np.array([[0.0,-1.0j],[1.0j,0.0]], dtype = 'complex')\n",
    "Z = np.array([[1.0, 0.0], [0.0, -1.0]])\n",
    "I = np.array([[1.0, 0.0], [0.0, 1.0]])"
   ]
  },
  {
   "cell_type": "code",
   "execution_count": 22,
   "metadata": {},
   "outputs": [],
   "source": [
    "def new_graph(d, n):\n",
    "    graph = nx.random_regular_graph(d, n)\n",
    "    return graph, d, n\n",
    "\n",
    "def random_graph(d, n):\n",
    "    #graph = nx.erdos_renyi_graph(n, 0.25)\n",
    "    graph = nx.gnm_random_graph(n, d)\n",
    "    return graph, d, n\n",
    "\n",
    "def isomorphism_check(x, y):\n",
    "    isomorphic = nx.is_isomorphic(x, y)\n",
    "    return isomorphic\n",
    "\n",
    "def is_graph_connected(g):\n",
    "    connected = nx.is_connected(g)\n",
    "    return connected\n",
    "\n",
    "def is_graph_regular(g, k):\n",
    "    regular = nx.is_k_regular(g, k)\n",
    "    return regular\n",
    "\n",
    "def isomorphism(graphs):\n",
    "    graph_list = graphs\n",
    "    check = True\n",
    "    graphs = copy.deepcopy(graph_list)\n",
    "    while (check) and (len(graphs) > 1):\n",
    "        for i, j in combinations(graphs, 2):\n",
    "            check = isomorphism_check(i[0], j[0])\n",
    "            if check:\n",
    "                graphs.remove(i)\n",
    "                break\n",
    "            print(len(graphs))\n",
    "            return graphs\n",
    "\n",
    "def generate_graphs(num_edges, num_nodes, num_graphs):\n",
    "    graph_list = []\n",
    "    connected_graphs = []\n",
    "    regular_graphs = []\n",
    "    graph_only =[]\n",
    "    if num_nodes < 4 and num_edges < 2:\n",
    "        graph_only.append(new_graph(num_edges,num_nodes))\n",
    "        return graph_only\n",
    "    else :\n",
    "        for i in range(num_graphs):\n",
    "            graph_list.append(new_graph(num_edges,num_nodes))\n",
    "        for i in range(len(graph_list)):\n",
    "            if (is_graph_regular(graph_list[i][0], num_edges)):\n",
    "                regular_graphs.append(graph_list[i])\n",
    "        for i in range(len(regular_graphs)):\n",
    "            if (is_graph_connected(regular_graphs[i][0])):\n",
    "                connected_graphs.append(regular_graphs[i])\n",
    "        check = True\n",
    "        graphs = copy.deepcopy(connected_graphs)\n",
    "        while (check) and (len(graphs) > 1):\n",
    "            for i, j in combinations(graphs, 2):\n",
    "                check = isomorphism_check(i[0], j[0])\n",
    "                if check:\n",
    "                    graphs.remove(i)\n",
    "                    break\n",
    "        return graphs\n",
    "    \n",
    "# def generate_graphs(num_edges, num_nodes, num_graphs):\n",
    "#     graph_list = []\n",
    "#     graph_only =[]\n",
    "#     if num_nodes < 4 and num_edges < 2:\n",
    "#         graph_only.append(new_graph(num_edges,num_nodes))\n",
    "#         return graph_only\n",
    "#     else :\n",
    "#         for i in range(num_graphs):\n",
    "#             graph_list.append(random_graph(num_edges,num_nodes))\n",
    "#         check = True\n",
    "#         graphs = copy.deepcopy(graph_list)\n",
    "#         while (check) and (len(graphs) > 1):\n",
    "#             for i, j in combinations(graphs, 2):\n",
    "#                 check = isomorphism_check(i[0], j[0])\n",
    "#                 if check:\n",
    "#                     graphs.remove(i)\n",
    "#                     break\n",
    "#         return graphs"
   ]
  },
  {
   "cell_type": "code",
   "execution_count": 23,
   "metadata": {},
   "outputs": [],
   "source": [
    "def MaxCut_p(edges, qubits, operator):\n",
    "    H_problem = np.zeros([2**qubits,2**qubits], dtype=operator.dtype)\n",
    "    for edge in edges:\n",
    "        edge = np.sort(edge)\n",
    "        H_problem += (np.real(ftls.reduce(np.kron, [np.eye(2**edge[0]), operator, \n",
    "                                   np.eye(2**(edge[1]-edge[0]-1)),\n",
    "                                   operator, np.eye(2**(qubits-edge[1]-1))]))) * (-1/2)\n",
    "    if np.isreal(H_problem).all():\n",
    "        H_problem = H_problem.real\n",
    "    return H_problem\n",
    "\n",
    "def MaxClique_p(edges, qubits, operator):\n",
    "    H_problem = np.zeros([2**qubits,2**qubits], dtype=operator.dtype)\n",
    "    graph = nx.Graph(edges)\n",
    "    graph_c = nx.complement(graph)\n",
    "    edges_c = graph_c.edges\n",
    "    max_degree = sorted(graph_c.degree, key=lambda k: [k[1], k[0]])\n",
    "    print(max_degree)\n",
    "    if (max_degree[-1][1]) < (qubits/2):\n",
    "        A = max_degree[-1][1]\n",
    "    else:\n",
    "        A = qubits/2\n",
    "    print(\"Max Degree: \" + str(max_degree[-1][1]))\n",
    "    print(\"A:\" + str(A))\n",
    "    for edge in edges_c:\n",
    "        edge = np.sort(edge)\n",
    "        H_problem += (1/4) * (np.real(ftls.reduce(np.kron, \n",
    "                                   [np.eye(2**edge[0]), operator, np.eye(2**(edge[1]-edge[0]-1)), operator, np.eye(2**(qubits-edge[1]-1))]) -\n",
    "                                   ftls.reduce(np.kron, [np.eye(2**edge[0]), operator, np.eye(2**(qubits-edge[0]-1))]) -\n",
    "                                   ftls.reduce(np.kron, [np.eye(2**(edge[1])), operator, np.eye(2**(qubits-edge[1]-1))])))\n",
    "    for j in range(qubits):\n",
    "        H_problem += 1/1 * (ftls.reduce(np.kron, [np.eye(2**j), operator, np.eye(2**(qubits-j-1))]))\n",
    "    if np.isreal(H_problem).all():\n",
    "        H_problem = H_problem.real\n",
    "    return H_problem\n",
    "\n",
    "def Hamiltonian_d(qubits, operator):\n",
    "    H_driver = np.zeros([2**qubits]*2, dtype = operator.dtype)\n",
    "    for j in range(qubits):\n",
    "        H_driver += 1.0 * ftls.reduce(np.kron, [np.eye(2**j), operator, np.eye(2**(qubits-j-1))])\n",
    "    return H_driver\n",
    "\n",
    "def eigenV(Hamilt):\n",
    "    eigenValues, eigenVectors = np.linalg.eigh(Hamilt)\n",
    "    return eigenVectors, eigenValues\n",
    "\n",
    "def commutator(A, B, anti = False):\n",
    "    if not anti:\n",
    "        return A @ B - B @ A\n",
    "    elif anti:\n",
    "        return A @ B + B @ A\n",
    "\n",
    "def exeFALQON(graphs, qubits):\n",
    "    h_p_values = []\n",
    "    graph_for_FALQON =[]\n",
    "    beta_values = []\n",
    "    cost_function_values = []\n",
    "    phi_values = []\n",
    "    psi_values = []\n",
    "    H_p_eigenValues = []\n",
    "    g = 0\n",
    "    print(len(graphs))\n",
    "    H_d = Hamiltonian_d(qubits, X)\n",
    "    eigenVectors_d, eigenValues_d = eigenV(H_d)\n",
    "    for g in range(len(graphs)):\n",
    "        graph_for_FALQON = graphs[g]\n",
    "        H_p = MaxCut_p(graph_for_FALQON[0].edges, qubits, Z)\n",
    "        #H_p = MaxClique_p(graph_for_FALQON[0].edges, qubits, Z)\n",
    "        h_p_values.append(H_p)\n",
    "        eigenVectors_p, eigenValues_p = eigenV(H_p)\n",
    "        dt = 0.03\n",
    "        n_steps = 500\n",
    "        beta = [0]\n",
    "        psi_list = []\n",
    "        phi_list = []\n",
    "        \n",
    "        psi_0 = eigenVectors_d[:, 0]\n",
    "        U_p = np.exp(-1j*np.diag(H_p)*dt) #1d array\n",
    "        comm = (1j*commutator(H_d, H_p, anti = False))\n",
    "        cost_function = [float(np.real(np.conj(np.transpose(psi_0)) @ H_p @ psi_0))]#\n",
    "        U_d = linalg.expm(-1j*beta[0]*H_d*dt)\n",
    "        psi = U_d @ (U_p*psi_0) #2d array\n",
    "        A = float(np.real(np.conj(np.transpose(psi)) @ comm @ psi))\n",
    "        beta.append(-A) #Add -A to beta array\n",
    "        cost_function.append(float(np.real(np.conj(np.transpose(psi)) @ H_p @ psi)))#\n",
    "    \n",
    "        i = 1\n",
    "        while i < n_steps:\n",
    "            U_d = linalg.expm(-1j*beta[i]*H_d*dt)\n",
    "            psi = U_d @ (U_p*psi) #2d array\n",
    "            A = float((np.real(np.conj(np.transpose(psi)) @ comm @ psi)))\n",
    "            beta.append(-A)\n",
    "            cost_function.append(float(np.real(np.conj(np.transpose(psi)) @ H_p @ psi)))#\n",
    "            psi_list.append(psi)\n",
    "        \n",
    "            k = 0\n",
    "            phi = 0\n",
    "            for k in range(len(eigenValues_p)):\n",
    "                if eigenValues_p[0] == eigenValues_p[k]:\n",
    "                    phi =+ phi + ((np.absolute(np.vdot(eigenVectors_p[:,k], psi)))**2)\n",
    "            phi_list.append(phi)\n",
    "            i = i+1\n",
    "        beta_values.append(beta)\n",
    "        cost_function_values.append(cost_function)\n",
    "        phi_values.append(phi_list)\n",
    "        psi_values.append(psi_list)\n",
    "        H_p_eigenValues.append(eigenValues_p)\n",
    "    return beta_values, cost_function_values, phi_values, H_p_eigenValues, graphs"
   ]
  },
  {
   "cell_type": "code",
   "execution_count": 24,
   "metadata": {},
   "outputs": [
    {
     "name": "stdout",
     "output_type": "stream",
     "text": [
      "1\n"
     ]
    }
   ],
   "source": [
    "k = 2\n",
    "qubits = 4\n",
    "num_graphs = 1\n",
    "graphs = generate_graphs(k, qubits, num_graphs)\n",
    "print(len(graphs))"
   ]
  },
  {
   "cell_type": "code",
   "execution_count": 25,
   "metadata": {},
   "outputs": [
    {
     "name": "stdout",
     "output_type": "stream",
     "text": [
      "1\n"
     ]
    }
   ],
   "source": [
    "beta, cost_function, phi_list, eigenValues_p, num_graphs = exeFALQON(graphs, qubits)"
   ]
  },
  {
   "cell_type": "code",
   "execution_count": 26,
   "metadata": {},
   "outputs": [],
   "source": [
    "def rosen(x):\n",
    "    return sum(100.0*(x[1:]-x[:-1]**2.0)**2.0 + (1-x[:-1])**2.0)"
   ]
  },
  {
   "cell_type": "code",
   "execution_count": 27,
   "metadata": {},
   "outputs": [
    {
     "ename": "TypeError",
     "evalue": "sum() missing 1 required positional argument: 'y'",
     "output_type": "error",
     "traceback": [
      "\u001b[0;31m---------------------------------------------------------------------------\u001b[0m",
      "\u001b[0;31mTypeError\u001b[0m                                 Traceback (most recent call last)",
      "Cell \u001b[0;32mIn[27], line 2\u001b[0m\n\u001b[1;32m      1\u001b[0m x0 \u001b[38;5;241m=\u001b[39m np\u001b[38;5;241m.\u001b[39marray([\u001b[38;5;241m1\u001b[39m, \u001b[38;5;241m1\u001b[39m, \u001b[38;5;241m1\u001b[39m, \u001b[38;5;241m1\u001b[39m])\n\u001b[0;32m----> 2\u001b[0m res \u001b[38;5;241m=\u001b[39m \u001b[43mminimize\u001b[49m\u001b[43m(\u001b[49m\u001b[43mrosen\u001b[49m\u001b[43m,\u001b[49m\u001b[43m \u001b[49m\u001b[43mx0\u001b[49m\u001b[43m,\u001b[49m\u001b[43m \u001b[49m\u001b[43mmethod\u001b[49m\u001b[38;5;241;43m=\u001b[39;49m\u001b[38;5;124;43m'\u001b[39;49m\u001b[38;5;124;43mnelder-mead\u001b[39;49m\u001b[38;5;124;43m'\u001b[39;49m\u001b[43m,\u001b[49m\n\u001b[1;32m      3\u001b[0m \u001b[43m               \u001b[49m\u001b[43moptions\u001b[49m\u001b[38;5;241;43m=\u001b[39;49m\u001b[43m{\u001b[49m\u001b[38;5;124;43m'\u001b[39;49m\u001b[38;5;124;43mxatol\u001b[39;49m\u001b[38;5;124;43m'\u001b[39;49m\u001b[43m:\u001b[49m\u001b[43m \u001b[49m\u001b[38;5;241;43m1e-8\u001b[39;49m\u001b[43m,\u001b[49m\u001b[43m \u001b[49m\u001b[38;5;124;43m'\u001b[39;49m\u001b[38;5;124;43mdisp\u001b[39;49m\u001b[38;5;124;43m'\u001b[39;49m\u001b[43m:\u001b[49m\u001b[43m \u001b[49m\u001b[38;5;28;43;01mTrue\u001b[39;49;00m\u001b[43m}\u001b[49m\u001b[43m)\u001b[49m\n",
      "File \u001b[0;32m/Library/Frameworks/Python.framework/Versions/3.11/lib/python3.11/site-packages/scipy/optimize/_minimize.py:698\u001b[0m, in \u001b[0;36mminimize\u001b[0;34m(fun, x0, args, method, jac, hess, hessp, bounds, constraints, tol, callback, options)\u001b[0m\n\u001b[1;32m    695\u001b[0m callback \u001b[38;5;241m=\u001b[39m _wrap_callback(callback, meth)\n\u001b[1;32m    697\u001b[0m \u001b[38;5;28;01mif\u001b[39;00m meth \u001b[38;5;241m==\u001b[39m \u001b[38;5;124m'\u001b[39m\u001b[38;5;124mnelder-mead\u001b[39m\u001b[38;5;124m'\u001b[39m:\n\u001b[0;32m--> 698\u001b[0m     res \u001b[38;5;241m=\u001b[39m \u001b[43m_minimize_neldermead\u001b[49m\u001b[43m(\u001b[49m\u001b[43mfun\u001b[49m\u001b[43m,\u001b[49m\u001b[43m \u001b[49m\u001b[43mx0\u001b[49m\u001b[43m,\u001b[49m\u001b[43m \u001b[49m\u001b[43margs\u001b[49m\u001b[43m,\u001b[49m\u001b[43m \u001b[49m\u001b[43mcallback\u001b[49m\u001b[43m,\u001b[49m\u001b[43m \u001b[49m\u001b[43mbounds\u001b[49m\u001b[38;5;241;43m=\u001b[39;49m\u001b[43mbounds\u001b[49m\u001b[43m,\u001b[49m\n\u001b[1;32m    699\u001b[0m \u001b[43m                               \u001b[49m\u001b[38;5;241;43m*\u001b[39;49m\u001b[38;5;241;43m*\u001b[39;49m\u001b[43moptions\u001b[49m\u001b[43m)\u001b[49m\n\u001b[1;32m    700\u001b[0m \u001b[38;5;28;01melif\u001b[39;00m meth \u001b[38;5;241m==\u001b[39m \u001b[38;5;124m'\u001b[39m\u001b[38;5;124mpowell\u001b[39m\u001b[38;5;124m'\u001b[39m:\n\u001b[1;32m    701\u001b[0m     res \u001b[38;5;241m=\u001b[39m _minimize_powell(fun, x0, args, callback, bounds, \u001b[38;5;241m*\u001b[39m\u001b[38;5;241m*\u001b[39moptions)\n",
      "File \u001b[0;32m/Library/Frameworks/Python.framework/Versions/3.11/lib/python3.11/site-packages/scipy/optimize/_optimize.py:899\u001b[0m, in \u001b[0;36m_minimize_neldermead\u001b[0;34m(func, x0, args, callback, maxiter, maxfev, disp, return_all, initial_simplex, xatol, fatol, adaptive, bounds, **unknown_options)\u001b[0m\n\u001b[1;32m    897\u001b[0m \u001b[38;5;28;01mtry\u001b[39;00m:\n\u001b[1;32m    898\u001b[0m     \u001b[38;5;28;01mfor\u001b[39;00m k \u001b[38;5;129;01min\u001b[39;00m \u001b[38;5;28mrange\u001b[39m(N \u001b[38;5;241m+\u001b[39m \u001b[38;5;241m1\u001b[39m):\n\u001b[0;32m--> 899\u001b[0m         fsim[k] \u001b[38;5;241m=\u001b[39m \u001b[43mfunc\u001b[49m\u001b[43m(\u001b[49m\u001b[43msim\u001b[49m\u001b[43m[\u001b[49m\u001b[43mk\u001b[49m\u001b[43m]\u001b[49m\u001b[43m)\u001b[49m\n\u001b[1;32m    900\u001b[0m \u001b[38;5;28;01mexcept\u001b[39;00m _MaxFuncCallError:\n\u001b[1;32m    901\u001b[0m     \u001b[38;5;28;01mpass\u001b[39;00m\n",
      "File \u001b[0;32m/Library/Frameworks/Python.framework/Versions/3.11/lib/python3.11/site-packages/scipy/optimize/_optimize.py:620\u001b[0m, in \u001b[0;36m_wrap_scalar_function_maxfun_validation.<locals>.function_wrapper\u001b[0;34m(x, *wrapper_args)\u001b[0m\n\u001b[1;32m    618\u001b[0m ncalls[\u001b[38;5;241m0\u001b[39m] \u001b[38;5;241m+\u001b[39m\u001b[38;5;241m=\u001b[39m \u001b[38;5;241m1\u001b[39m\n\u001b[1;32m    619\u001b[0m \u001b[38;5;66;03m# A copy of x is sent to the user function (gh13740)\u001b[39;00m\n\u001b[0;32m--> 620\u001b[0m fx \u001b[38;5;241m=\u001b[39m \u001b[43mfunction\u001b[49m\u001b[43m(\u001b[49m\u001b[43mnp\u001b[49m\u001b[38;5;241;43m.\u001b[39;49m\u001b[43mcopy\u001b[49m\u001b[43m(\u001b[49m\u001b[43mx\u001b[49m\u001b[43m)\u001b[49m\u001b[43m,\u001b[49m\u001b[43m \u001b[49m\u001b[38;5;241;43m*\u001b[39;49m\u001b[43m(\u001b[49m\u001b[43mwrapper_args\u001b[49m\u001b[43m \u001b[49m\u001b[38;5;241;43m+\u001b[39;49m\u001b[43m \u001b[49m\u001b[43margs\u001b[49m\u001b[43m)\u001b[49m\u001b[43m)\u001b[49m\n\u001b[1;32m    621\u001b[0m \u001b[38;5;66;03m# Ideally, we'd like to a have a true scalar returned from f(x). For\u001b[39;00m\n\u001b[1;32m    622\u001b[0m \u001b[38;5;66;03m# backwards-compatibility, also allow np.array([1.3]),\u001b[39;00m\n\u001b[1;32m    623\u001b[0m \u001b[38;5;66;03m# np.array([[1.3]]) etc.\u001b[39;00m\n\u001b[1;32m    624\u001b[0m \u001b[38;5;28;01mif\u001b[39;00m \u001b[38;5;129;01mnot\u001b[39;00m np\u001b[38;5;241m.\u001b[39misscalar(fx):\n",
      "Cell \u001b[0;32mIn[26], line 2\u001b[0m, in \u001b[0;36mrosen\u001b[0;34m(x)\u001b[0m\n\u001b[1;32m      1\u001b[0m \u001b[38;5;28;01mdef\u001b[39;00m \u001b[38;5;21mrosen\u001b[39m(x):\n\u001b[0;32m----> 2\u001b[0m     \u001b[38;5;28;01mreturn\u001b[39;00m \u001b[38;5;28;43msum\u001b[39;49m\u001b[43m(\u001b[49m\u001b[38;5;241;43m100.0\u001b[39;49m\u001b[38;5;241;43m*\u001b[39;49m\u001b[43m(\u001b[49m\u001b[43mx\u001b[49m\u001b[43m[\u001b[49m\u001b[38;5;241;43m1\u001b[39;49m\u001b[43m:\u001b[49m\u001b[43m]\u001b[49m\u001b[38;5;241;43m-\u001b[39;49m\u001b[43mx\u001b[49m\u001b[43m[\u001b[49m\u001b[43m:\u001b[49m\u001b[38;5;241;43m-\u001b[39;49m\u001b[38;5;241;43m1\u001b[39;49m\u001b[43m]\u001b[49m\u001b[38;5;241;43m*\u001b[39;49m\u001b[38;5;241;43m*\u001b[39;49m\u001b[38;5;241;43m2.0\u001b[39;49m\u001b[43m)\u001b[49m\u001b[38;5;241;43m*\u001b[39;49m\u001b[38;5;241;43m*\u001b[39;49m\u001b[38;5;241;43m2.0\u001b[39;49m\u001b[43m \u001b[49m\u001b[38;5;241;43m+\u001b[39;49m\u001b[43m \u001b[49m\u001b[43m(\u001b[49m\u001b[38;5;241;43m1\u001b[39;49m\u001b[38;5;241;43m-\u001b[39;49m\u001b[43mx\u001b[49m\u001b[43m[\u001b[49m\u001b[43m:\u001b[49m\u001b[38;5;241;43m-\u001b[39;49m\u001b[38;5;241;43m1\u001b[39;49m\u001b[43m]\u001b[49m\u001b[43m)\u001b[49m\u001b[38;5;241;43m*\u001b[39;49m\u001b[38;5;241;43m*\u001b[39;49m\u001b[38;5;241;43m2.0\u001b[39;49m\u001b[43m)\u001b[49m\n",
      "\u001b[0;31mTypeError\u001b[0m: sum() missing 1 required positional argument: 'y'"
     ]
    }
   ],
   "source": [
    "x0 = np.array([1, 1, 1, 1])\n",
    "res = minimize(rosen, x0, method='nelder-mead',\n",
    "               options={'xatol': 1e-8, 'disp': True})"
   ]
  }
 ],
 "metadata": {
  "kernelspec": {
   "display_name": "Python 3",
   "language": "python",
   "name": "python3"
  },
  "language_info": {
   "codemirror_mode": {
    "name": "ipython",
    "version": 3
   },
   "file_extension": ".py",
   "mimetype": "text/x-python",
   "name": "python",
   "nbconvert_exporter": "python",
   "pygments_lexer": "ipython3",
   "version": "3.11.4"
  }
 },
 "nbformat": 4,
 "nbformat_minor": 2
}
