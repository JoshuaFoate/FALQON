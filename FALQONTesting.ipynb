{
 "cells": [
  {
   "cell_type": "code",
   "execution_count": 4,
   "id": "d639f13a-dda4-42c1-a2fd-9186f56f0a47",
   "metadata": {},
   "outputs": [
    {
     "data": {
      "text/html": [
       "<style>.container { width:90% !important; }</style>"
      ],
      "text/plain": [
       "<IPython.core.display.HTML object>"
      ]
     },
     "metadata": {},
     "output_type": "display_data"
    }
   ],
   "source": [
    "import numpy as np\n",
    "import scipy\n",
    "from scipy import linalg\n",
    "from scipy.optimize import minimize\n",
    "from matplotlib import pyplot as plt\n",
    "import functools as ftls\n",
    "import networkx as nx\n",
    "import copy\n",
    "from itertools import combinations\n",
    "%matplotlib inline\n",
    "import sys\n",
    "from IPython.display import display, HTML\n",
    "display(HTML('<style>.container { width:90% !important; }</style>'))\n",
    "np.set_printoptions(threshold=sys.maxsize)\n",
    "\n",
    "X = np.array([[0.0, 1.0], [1.0, 0.0]])\n",
    "Y = np.array([[0.0,-1.0j],[1.0j,0.0]], dtype = 'complex128')\n",
    "Z = np.array([[1.0, 0.0], [0.0, -1.0]])\n",
    "I = np.array([[1.0, 0.0], [0.0, 1.0]])"
   ]
  },
  {
   "cell_type": "code",
   "execution_count": 5,
   "id": "c24655e6-ee06-4fd1-9f78-9fee53d4c463",
   "metadata": {},
   "outputs": [],
   "source": [
    "def new_graph(d, n):\n",
    "    graph = nx.random_regular_graph(d, n)\n",
    "    return graph, d, n\n",
    "\n",
    "def random_graph(d, n):\n",
    "    #graph = nx.erdos_renyi_graph(n, 0.25)\n",
    "    graph = nx.gnm_random_graph(n, d)\n",
    "    return graph, d, n\n",
    "\n",
    "def isomorphism_check(x, y):\n",
    "    isomorphic = nx.is_isomorphic(x, y)\n",
    "    return isomorphic\n",
    "\n",
    "def is_graph_connected(g):\n",
    "    connected = nx.is_connected(g)\n",
    "    return connected\n",
    "\n",
    "def is_graph_regular(g, k):\n",
    "    regular = nx.is_k_regular(g, k)\n",
    "    return regular\n",
    "\n",
    "def isomorphism(graphs):\n",
    "    graph_list = graphs\n",
    "    check = True\n",
    "    graphs = copy.deepcopy(graph_list)\n",
    "    while (check) and (len(graphs) > 1):\n",
    "        for i, j in combinations(graphs, 2):\n",
    "            check = isomorphism_check(i[0], j[0])\n",
    "            if check:\n",
    "                graphs.remove(i)\n",
    "                break\n",
    "            print(len(graphs))\n",
    "            return graphs\n",
    "\n",
    "def generate_graphs(num_edges, num_nodes, num_graphs):\n",
    "    graph_list = []\n",
    "    connected_graphs = []\n",
    "    regular_graphs = []\n",
    "    graph_only =[]\n",
    "    if num_nodes < 4 and num_edges < 2:\n",
    "        graph_only.append(new_graph(num_edges,num_nodes))\n",
    "        return graph_only\n",
    "    else :\n",
    "        for i in range(num_graphs):\n",
    "            graph_list.append(new_graph(num_edges,num_nodes))\n",
    "        for i in range(len(graph_list)):\n",
    "            if (is_graph_regular(graph_list[i][0], num_edges)):\n",
    "                regular_graphs.append(graph_list[i])\n",
    "        for i in range(len(regular_graphs)):\n",
    "            if (is_graph_connected(regular_graphs[i][0])):\n",
    "                connected_graphs.append(regular_graphs[i])\n",
    "        check = True\n",
    "        graphs = copy.deepcopy(connected_graphs)\n",
    "        while (check) and (len(graphs) > 1):\n",
    "            for i, j in combinations(graphs, 2):\n",
    "                check = isomorphism_check(i[0], j[0])\n",
    "                if check:\n",
    "                    graphs.remove(i)\n",
    "                    break\n",
    "        return graphs\n",
    "    \n",
    "# def generate_graphs(num_edges, num_nodes, num_graphs):\n",
    "#     graph_list = []\n",
    "#     graph_only =[]\n",
    "#     if num_nodes < 4 and num_edges < 2:\n",
    "#         graph_only.append(new_graph(num_edges,num_nodes))\n",
    "#         return graph_only\n",
    "#     else :\n",
    "#         for i in range(num_graphs):\n",
    "#             graph_list.append(random_graph(num_edges,num_nodes))\n",
    "#         check = True\n",
    "#         graphs = copy.deepcopy(graph_list)\n",
    "#         while (check) and (len(graphs) > 1):\n",
    "#             for i, j in combinations(graphs, 2):\n",
    "#                 check = isomorphism_check(i[0], j[0])\n",
    "#                 if check:\n",
    "#                     graphs.remove(i)\n",
    "#                     break\n",
    "#         return graphs"
   ]
  },
  {
   "cell_type": "markdown",
   "id": "f95851d1",
   "metadata": {},
   "source": []
  },
  {
   "cell_type": "code",
   "execution_count": 6,
   "id": "148a9452-9fe9-4814-afa6-81a7cf1e8cfa",
   "metadata": {},
   "outputs": [],
   "source": [
    "def MaxCut_p(edges, qubits, operator):\n",
    "    H_problem = np.zeros([2**qubits,2**qubits], dtype=operator.dtype)\n",
    "    for edge in edges:\n",
    "        edge = np.sort(edge)\n",
    "        H_problem += (np.eye(2**qubits) - np.real(ftls.reduce(np.kron, [np.eye(2**edge[0]), operator, \n",
    "                                   np.eye(2**(edge[1]-edge[0]-1)),\n",
    "                                   operator, np.eye(2**(qubits-edge[1]-1))]))) * (-1/2)\n",
    "    if np.isreal(H_problem).all():\n",
    "        H_problem = H_problem.real\n",
    "    return H_problem\n",
    "\n",
    "def MaxClique_p(edges, qubits, operator):\n",
    "    H_problem = np.zeros([2**qubits,2**qubits], dtype=operator.dtype)\n",
    "    graph = nx.Graph(edges)\n",
    "    graph_c = nx.complement(graph)\n",
    "    edges_c = graph_c.edges\n",
    "    max_degree = sorted(graph_c.degree, key=lambda k: [k[1], k[0]])\n",
    "    print(max_degree)\n",
    "    if (max_degree[-1][1]) < (qubits/2):\n",
    "        A = max_degree[-1][1]\n",
    "    else:\n",
    "        A = qubits/2\n",
    "    print(\"Max Degree: \" + str(max_degree[-1][1]))\n",
    "    print(\"A:\" + str(A))\n",
    "    for edge in edges_c:\n",
    "        edge = np.sort(edge)\n",
    "        H_problem += (1/4) * (np.real(ftls.reduce(np.kron, \n",
    "                                   [np.eye(2**edge[0]), operator, np.eye(2**(edge[1]-edge[0]-1)), operator, np.eye(2**(qubits-edge[1]-1))]) -\n",
    "                                   ftls.reduce(np.kron, [np.eye(2**edge[0]), operator, np.eye(2**(qubits-edge[0]-1))]) -\n",
    "                                   ftls.reduce(np.kron, [np.eye(2**(edge[1])), operator, np.eye(2**(qubits-edge[1]-1))])))\n",
    "    for j in range(qubits):\n",
    "        H_problem += 1/1 * (ftls.reduce(np.kron, [np.eye(2**j), operator, np.eye(2**(qubits-j-1))]))\n",
    "    if np.isreal(H_problem).all():\n",
    "        H_problem = H_problem.real\n",
    "    return H_problem\n",
    "\n",
    "def Hamiltonian_d(qubits, operator):\n",
    "    H_driver = np.zeros([2**qubits]*2, dtype = operator.dtype)\n",
    "    for j in range(qubits):\n",
    "        H_driver += 1.0 * ftls.reduce(np.kron, [np.eye(2**j), operator, np.eye(2**(qubits-j-1))])\n",
    "    return H_driver\n",
    "\n",
    "def eigenV(Hamilt):\n",
    "    eigenValues, eigenVectors = np.linalg.eigh(Hamilt)\n",
    "    return eigenVectors, eigenValues\n",
    "\n",
    "def commutator(A, B, anti = False):\n",
    "    if not anti:\n",
    "        return A @ B - B @ A\n",
    "    elif anti:\n",
    "        return A @ B + B @ A\n",
    "\n",
    "def exeFALQON(graphs, qubits):\n",
    "    h_p_values = []\n",
    "    graph_for_FALQON =[]\n",
    "    beta_values = []\n",
    "    cost_function_values = []\n",
    "    phi_values = []\n",
    "    psi_values = []\n",
    "    H_p_eigenValues = []\n",
    "    g = 0\n",
    "    print(len(graphs))\n",
    "    H_d = Hamiltonian_d(qubits, X)\n",
    "    eigenVectors_d, eigenValues_d = eigenV(H_d)\n",
    "    for g in range(len(graphs)):\n",
    "        graph_for_FALQON = graphs[g]\n",
    "        H_p = MaxCut_p(graph_for_FALQON[0].edges, qubits, Z)\n",
    "        #H_p = MaxClique_p(graph_for_FALQON[0].edges, qubits, Z)\n",
    "        h_p_values.append(H_p)\n",
    "        eigenVectors_p, eigenValues_p = eigenV(H_p)\n",
    "        dt = 0.03\n",
    "        n_steps = 200\n",
    "        beta = [0]\n",
    "        psi_list = []\n",
    "        phi_list = []\n",
    "        \n",
    "        psi_0 = eigenVectors_d[:, 0]\n",
    "        U_p = np.exp(-1j*np.diag(H_p)*dt) #1d array\n",
    "        comm = (1j*commutator(H_d, H_p, anti = False))\n",
    "        cost_function = [float(np.real(np.conj(np.transpose(psi_0)) @ H_p @ psi_0))]#\n",
    "        U_d = linalg.expm(-1j*beta[0]*H_d*dt)\n",
    "        psi = U_d @ (U_p*psi_0) #2d array\n",
    "        A = float(np.real(np.conj(np.transpose(psi)) @ comm @ psi))\n",
    "        beta.append(-A) #Add -A to beta array\n",
    "        cost_function.append(float(np.real(np.conj(np.transpose(psi)) @ H_p @ psi)))#\n",
    "    \n",
    "        i = 1\n",
    "        while i < n_steps:\n",
    "            U_d = linalg.expm(-1j*beta[i]*H_d*dt)\n",
    "            psi = U_d @ (U_p*psi) #2d array\n",
    "            A = float((np.real(np.conj(np.transpose(psi)) @ comm @ psi)))\n",
    "            beta.append(-A)\n",
    "            cost_function.append(float(np.real(np.conj(np.transpose(psi)) @ H_p @ psi)))#\n",
    "            psi_list.append(psi)\n",
    "        \n",
    "            k = 0\n",
    "            phi = 0\n",
    "            for k in range(len(eigenValues_p)):\n",
    "                if eigenValues_p[0] == eigenValues_p[k]:\n",
    "                    phi =+ phi + ((np.absolute(np.vdot(eigenVectors_p[:,k], psi)))**2)\n",
    "            phi_list.append(phi)\n",
    "            i = i+1\n",
    "        beta_values.append(beta)\n",
    "        cost_function_values.append(cost_function)\n",
    "        phi_values.append(phi_list)\n",
    "        psi_values.append(psi_list)\n",
    "        H_p_eigenValues.append(eigenValues_p)\n",
    "    return beta_values, cost_function_values, phi_values, H_p_eigenValues, graphs"
   ]
  },
  {
   "cell_type": "code",
   "execution_count": 7,
   "id": "6b0f4694-7e71-4a51-a69b-ebcae2cb7a2d",
   "metadata": {},
   "outputs": [
    {
     "name": "stdout",
     "output_type": "stream",
     "text": [
      "1\n"
     ]
    }
   ],
   "source": [
    "k = 2\n",
    "qubits = 4\n",
    "num_graphs = 1\n",
    "graphs = generate_graphs(k, qubits, num_graphs)\n",
    "print(len(graphs))"
   ]
  },
  {
   "cell_type": "code",
   "execution_count": 8,
   "id": "424372bd-0bc6-4e9a-9e2f-71be74cb522e",
   "metadata": {},
   "outputs": [
    {
     "name": "stdout",
     "output_type": "stream",
     "text": [
      "1\n"
     ]
    }
   ],
   "source": [
    "beta, cost_function, phi_list, eigenValues_p, num_graphs = exeFALQON(graphs, qubits)"
   ]
  },
  {
   "cell_type": "code",
   "execution_count": 9,
   "id": "cb7e1fe5-e432-4219-99b2-a5d0d23f81cd",
   "metadata": {},
   "outputs": [
    {
     "data": {
      "image/png": "[encoded data removed]",
      "text/plain": [
       "<Figure size 640x480 with 1 Axes>"
      ]
     },
     "metadata": {},
     "output_type": "display_data"
    }
   ],
   "source": [
    "plt.plot(beta[0], label = \"Graph 1\")\n",
    "# plt.plot(beta[1], label = \"Graph 2\")\n",
    "# plt.plot(beta[2], label = \"Graph 3\")\n",
    "#plt.plot(beta[3], label = \"Graph 4\")\n",
    "#plt.plot(beta[4], label = \"Graph 5\")\n",
    "#plt.plot(beta[5], label = \"Graph 6\")\n",
    "#plt.plot(beta[6], label = \"Graph 7\")\n",
    "#plt.plot(beta[7], label = \"Graph 8\")\n",
    "#plt.plot(beta[8], label = \"Graph 9\")\n",
    "#plt.plot(beta[9], label = \"Graph 10\")\n",
    "plt.legend()\n",
    "plt.show()"
   ]
  },
  {
   "cell_type": "code",
   "execution_count": 10,
   "id": "bb59b871-3039-4d3d-9aa1-f12353890641",
   "metadata": {},
   "outputs": [
    {
     "data": {
      "image/png": "[encoded data removed]",
      "text/plain": [
       "<Figure size 640x480 with 1 Axes>"
      ]
     },
     "metadata": {},
     "output_type": "display_data"
    }
   ],
   "source": [
    "plt.plot(cost_function[0], label = \"Graph 1\")\n",
    "# plt.plot(cost_function[1], label = \"Graph 2\")\n",
    "# plt.plot(cost_function[2], label = \"Graph 3\")\n",
    "#plt.plot(cost_function[3], label = \"Graph 4\")\n",
    "#plt.plot(cost_function[4], label = \"Graph 5\")\n",
    "#plt.plot(cost_function[5], label = \"Graph 6\")\n",
    "#plt.plot(cost_function[6], label = \"Graph 7\")\n",
    "#plt.plot(cost_function[7], label = \"Graph 8\")\n",
    "#plt.plot(cost_function[8], label = \"Graph 9\")\n",
    "#plt.plot(cost_function[9], label = \"Graph 10\")\n",
    "plt.legend()\n",
    "plt.show()"
   ]
  },
  {
   "cell_type": "code",
   "execution_count": 11,
   "id": "90ba81e1-2cde-4225-b4d0-6a435a4970d3",
   "metadata": {},
   "outputs": [
    {
     "data": {
      "image/png": "[encoded data removed]",
      "text/plain": [
       "<Figure size 640x480 with 1 Axes>"
      ]
     },
     "metadata": {},
     "output_type": "display_data"
    }
   ],
   "source": [
    "approximation_ratio1 = cost_function[0]/eigenValues_p[0][0]\n",
    "# approximation_ratio2 = cost_function[1]/eigenValues_p[1][0]\n",
    "# approximation_ratio3 = cost_function[2]/eigenValues_p[2][0]\n",
    "#approximation_ratio4 = cost_function[3]/eigenValues_p[3][0]\n",
    "#approximation_ratio5 = cost_function[4]/eigenValues_p[4][0]\n",
    "#approximation_ratio6 = cost_function[5]/eigenValues_p[5][0]\n",
    "#approximation_ratio7 = cost_function[6]/eigenValues_p[6][0]\n",
    "#approximation_ratio8 = cost_function[7]/eigenValues_p[7][0]\n",
    "#approximation_ratio9 = cost_function[8]/eigenValues_p[8][0]\n",
    "#approximation_ratio10 = cost_function[9]/eigenValues_p[9][0]\n",
    "plt.plot(approximation_ratio1, label = \"Graph 1\")\n",
    "# plt.plot(approximation_ratio2, label = \"Graph 2\")\n",
    "# plt.plot(approximation_ratio3, label = \"Graph 3\")\n",
    "#plt.plot(approximation_ratio4, label = \"Graph 4\")\n",
    "#plt.plot(approximation_ratio5, label = \"Graph 5\")\n",
    "#plt.plot(approximation_ratio6, label = \"Graph 6\")\n",
    "#plt.plot(approximation_ratio7, label = \"Graph 7\")\n",
    "#plt.plot(approximation_ratio8, label = \"Graph 8\")\n",
    "#plt.plot(approximation_ratio9, label = \"Graph 9\")\n",
    "#plt.plot(approximation_ratio10, label = \"Graph 10\")\n",
    "plt.legend()\n",
    "plt.show()"
   ]
  },
  {
   "cell_type": "code",
   "execution_count": 12,
   "id": "2fe0ca32-c02f-400a-bdcd-4a4f15c3293c",
   "metadata": {},
   "outputs": [
    {
     "data": {
      "image/png": "[encoded data removed]",
      "text/plain": [
       "<Figure size 640x480 with 1 Axes>"
      ]
     },
     "metadata": {},
     "output_type": "display_data"
    }
   ],
   "source": [
    "plt.plot(phi_list[0], label = \"Graph 1\")\n",
    "# plt.plot(phi_list[1], label = \"Graph 2\")\n",
    "# plt.plot(phi_list[2], label = \"Graph 3\")\n",
    "#plt.plot(phi_list[3], label = \"Graph 4\")\n",
    "#plt.plot(phi_list[4], label = \"Graph 5\")\n",
    "#plt.plot(phi_list[5], label = \"Graph 6\")\n",
    "#plt.plot(phi_list[6], label = \"Graph 7\")\n",
    "#plt.plot(phi_list[7], label = \"Graph 8\")\n",
    "#plt.plot(phi_list[8], label = \"Graph 9\")\n",
    "#plt.plot(phi_list[9], label = \"Graph 10\")\n",
    "plt.legend()\n",
    "plt.show()"
   ]
  },
  {
   "cell_type": "code",
   "execution_count": 14,
   "id": "44d02136",
   "metadata": {},
   "outputs": [],
   "source": [
    "def objective_funciton(beta, graphs, qubits):\n",
    "    h_p_values = []\n",
    "    graph_for_FALQON = []\n",
    "    beta_values = []\n",
    "    cost_function_values = []\n",
    "    phi_values = []\n",
    "    psi_values = []\n",
    "    H_p_eigenValues = []\n",
    "    g = 0\n",
    "    H_d = Hamiltonian_d(qubits, X)\n",
    "    eigenVectors_d, eigenValues_d = eigenV(H_d)\n",
    "    dt = 0.03\n",
    "    n_steps = len(beta)\n",
    "    beta_values.append(beta)\n",
    "    for g in range(len(graphs)):\n",
    "        graph_for_FALQON = graphs[g]\n",
    "        H_p = MaxCut_p(graph_for_FALQON[0].edges, qubits, Z)\n",
    "        #H_p = MaxClique_p(graph_for_FALQON[0].edges, qubits, Z)\n",
    "        h_p_values.append(H_p)\n",
    "        eigenVectors_p, eigenValues_p = eigenV(H_p)\n",
    "        psi_list = []\n",
    "        phi_list = []\n",
    "        \n",
    "        psi_0 = eigenVectors_d[:, 0]\n",
    "        U_p = np.exp(-1j*np.diag(H_p)*dt)\n",
    "        cost_function = [float(np.real(np.conj(np.transpose(psi_0)) @ H_p @ psi_0))]\n",
    "        U_d = linalg.expm(-1j*beta[0]*H_d*dt)\n",
    "        psi = U_d @ (U_p*psi_0)\n",
    "        cost_function.append(float(np.real(np.conj(np.transpose(psi)) @ H_p @ psi)))#\n",
    "    \n",
    "        i = 1\n",
    "        while i < n_steps:\n",
    "            U_d = linalg.expm(-1j*beta[i]*H_d*dt)\n",
    "            psi = U_d @ (U_p*psi)\n",
    "            cost_function.append(float(np.real(np.conj(np.transpose(psi)) @ H_p @ psi)))#\n",
    "            psi_list.append(psi)\n",
    "        \n",
    "            k = 0\n",
    "            phi = 0\n",
    "            for k in range(len(eigenValues_p)):\n",
    "                if eigenValues_p[0] == eigenValues_p[k]:\n",
    "                    phi =+ phi + ((np.absolute(np.vdot(eigenVectors_p[:,k], psi)))**2)\n",
    "            phi_list.append(phi)\n",
    "            i = i+1\n",
    "        cost_function_values.append(cost_function)\n",
    "        phi_values.append(phi_list)\n",
    "        psi_values.append(psi_list)\n",
    "        H_p_eigenValues.append(eigenValues_p)\n",
    "    \n",
    "    approximation_ratio = cost_function[0]/H_p_eigenValues[0][0]\n",
    "    \n",
    "    plt.subplot(2,2,1)\n",
    "    plt.plot(beta_values[0])\n",
    "    \n",
    "    plt.subplot(2,2,2)\n",
    "    plt.plot(cost_function_values[0])\n",
    "    \n",
    "    plt.subplot(2,2,3)\n",
    "    plt.plot(approximation_ratio[0])\n",
    "    \n",
    "    plt.subplot(2,2,4)\n",
    "    plt.plot(phi_values[0])\n",
    "    \n",
    "    return -(approximation_ratio[-1])\n",
    "    #return beta_values, cost_function_values, phi_values, H_p_eigenValues, graphs"
   ]
  },
  {
   "cell_type": "code",
   "execution_count": 15,
   "id": "3ff2814f",
   "metadata": {},
   "outputs": [],
   "source": [
    "rng = np.random.default_rng(seed = 0)"
   ]
  },
  {
   "cell_type": "code",
   "execution_count": 16,
   "id": "9aee151a",
   "metadata": {},
   "outputs": [],
   "source": [
    "nBeta = 100\n",
    "beta_0 = np.pi*rng.random(nBeta)"
   ]
  },
  {
   "cell_type": "code",
   "execution_count": 17,
   "id": "479fc1c1",
   "metadata": {},
   "outputs": [],
   "source": [
    "beta_0 = beta[0]"
   ]
  },
  {
   "cell_type": "code",
   "execution_count": null,
   "id": "38175c12",
   "metadata": {},
   "outputs": [],
   "source": [
    "result = minimize(objective_funciton, beta_0, args=(graphs, qubits), method='bfgs', options={'disp': True})"
   ]
  },
  {
   "cell_type": "code",
   "execution_count": null,
   "id": "b06258e2",
   "metadata": {},
   "outputs": [],
   "source": [
    "print(result)"
   ]
  },
  {
   "cell_type": "code",
   "execution_count": 18,
   "id": "6db0e97f",
   "metadata": {},
   "outputs": [
    {
     "name": "stdout",
     "output_type": "stream",
     "text": [
      "0.9781647463211371\n"
     ]
    }
   ],
   "source": [
    "print(approximation_ratio1[-1])"
   ]
  },
  {
   "cell_type": "code",
   "execution_count": null,
   "id": "3e409c38",
   "metadata": {},
   "outputs": [],
   "source": [
    "beta_0_list = list()\n",
    "count = 3\n",
    "nBeta = 2\n",
    "result_list = list()\n",
    "\n",
    "for _ in range(count):\n",
    "    beta_0 = np.pi*rng.random(nBeta)\n",
    "    beta_0_list.append(beta_0)\n",
    "    result = minimize(objective_funciton, beta_0, args=(graphs, qubits), method='bfgs', options={'disp': True})\n",
    "    result.list.append(result)"
   ]
  },
  {
   "cell_type": "code",
   "execution_count": null,
   "id": "d2138f17",
   "metadata": {},
   "outputs": [],
   "source": [
    "print(result_list)"
   ]
  },
  {
   "cell_type": "code",
   "execution_count": null,
   "id": "8ad194ee",
   "metadata": {},
   "outputs": [],
   "source": [
    "result_list[0].x"
   ]
  }
 ],
 "metadata": {
  "kernelspec": {
   "display_name": "Python 3 (ipykernel)",
   "language": "python",
   "name": "python3"
  },
  "language_info": {
   "codemirror_mode": {
    "name": "ipython",
    "version": 3
   },
   "file_extension": ".py",
   "mimetype": "text/x-python",
   "name": "python",
   "nbconvert_exporter": "python",
   "pygments_lexer": "ipython3",
   "version": "3.11.4"
  }
 },
 "nbformat": 4,
 "nbformat_minor": 5
}
